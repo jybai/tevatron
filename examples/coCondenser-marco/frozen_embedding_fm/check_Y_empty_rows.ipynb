{
 "cells": [
  {
   "cell_type": "code",
   "execution_count": 22,
   "id": "33382149",
   "metadata": {},
   "outputs": [],
   "source": [
    "import os\n",
    "from scipy import sparse\n",
    "import numpy as np\n",
    "import pandas as pd"
   ]
  },
  {
   "cell_type": "code",
   "execution_count": 2,
   "id": "d9144cb3",
   "metadata": {},
   "outputs": [
    {
     "name": "stdout",
     "output_type": "stream",
     "text": [
      "X.trn.npz  Y.trn.npz      Y.trn.stage2.npz  Y.tst.pos.npz\r\n",
      "X.tst.npz  Y.trn.pos.npz  \u001b[0m\u001b[38;5;51mY.tst.npz\u001b[0m@        Z.npz\r\n"
     ]
    }
   ],
   "source": [
    "%ls ../data/MS-MARCO/original/"
   ]
  },
  {
   "cell_type": "markdown",
   "id": "cf34406a",
   "metadata": {},
   "source": [
    "### Filtered with union of indices between positive and negative"
   ]
  },
  {
   "cell_type": "code",
   "execution_count": 19,
   "id": "3eb25ed6",
   "metadata": {},
   "outputs": [
    {
     "data": {
      "text/plain": [
       "(502939, 8841823)"
      ]
     },
     "execution_count": 19,
     "metadata": {},
     "output_type": "execute_result"
    }
   ],
   "source": [
    "Y_trn = sparse.load_npz('../data/MS-MARCO/original/Y.trn.npz')\n",
    "Y_trn.shape"
   ]
  },
  {
   "cell_type": "code",
   "execution_count": 20,
   "id": "7a706444",
   "metadata": {},
   "outputs": [
    {
     "data": {
      "text/plain": [
       "502939"
      ]
     },
     "execution_count": 20,
     "metadata": {},
     "output_type": "execute_result"
    }
   ],
   "source": [
    "nnzs = np.array([Y_trn.getrow(i).nnz for i in range(Y_trn.shape[0])])\n",
    "sum(nnzs != 0)"
   ]
  },
  {
   "cell_type": "code",
   "execution_count": 18,
   "id": "5cf0da6f",
   "metadata": {},
   "outputs": [
    {
     "data": {
      "text/plain": [
       "(502939, 8841823)"
      ]
     },
     "execution_count": 18,
     "metadata": {},
     "output_type": "execute_result"
    }
   ],
   "source": [
    "Y_trn_pos = sparse.load_npz('../data/MS-MARCO/original/Y.trn.pos.npz')\n",
    "Y_trn_pos.shape"
   ]
  },
  {
   "cell_type": "code",
   "execution_count": 17,
   "id": "cc03bb39",
   "metadata": {},
   "outputs": [
    {
     "data": {
      "text/plain": [
       "502938"
      ]
     },
     "execution_count": 17,
     "metadata": {},
     "output_type": "execute_result"
    }
   ],
   "source": [
    "pos_nnzs = np.array([Y_trn_pos.getrow(i).nnz for i in range(Y_trn_pos.shape[0])])\n",
    "sum(pos_nnzs != 0)"
   ]
  },
  {
   "cell_type": "markdown",
   "id": "33114e3b",
   "metadata": {},
   "source": [
    "### Filtered with intersection of indices between positive and negative"
   ]
  },
  {
   "cell_type": "code",
   "execution_count": 37,
   "id": "0f2e48d6",
   "metadata": {},
   "outputs": [
    {
     "data": {
      "text/plain": [
       "(502939, 8841823)"
      ]
     },
     "execution_count": 37,
     "metadata": {},
     "output_type": "execute_result"
    }
   ],
   "source": [
    "Y_trn = sparse.load_npz('../data/MS-MARCO/original_neg/original/Y.trn.npz')\n",
    "Y_trn.shape"
   ]
  },
  {
   "cell_type": "code",
   "execution_count": 38,
   "id": "599e2272",
   "metadata": {},
   "outputs": [
    {
     "data": {
      "text/plain": [
       "400781"
      ]
     },
     "execution_count": 38,
     "metadata": {},
     "output_type": "execute_result"
    }
   ],
   "source": [
    "nnzs = np.array([Y_trn.getrow(i).nnz for i in range(Y_trn.shape[0])])\n",
    "sum(nnzs != 0)"
   ]
  },
  {
   "cell_type": "code",
   "execution_count": 39,
   "id": "c90d6a3d",
   "metadata": {},
   "outputs": [
    {
     "data": {
      "text/plain": [
       "(502939, 8841823)"
      ]
     },
     "execution_count": 39,
     "metadata": {},
     "output_type": "execute_result"
    }
   ],
   "source": [
    "Y_trn_pos = sparse.load_npz('../data/MS-MARCO/original_neg/original/Y.trn.pos.npz')\n",
    "Y_trn_pos.shape"
   ]
  },
  {
   "cell_type": "code",
   "execution_count": 40,
   "id": "f0541af3",
   "metadata": {},
   "outputs": [
    {
     "data": {
      "text/plain": [
       "400781"
      ]
     },
     "execution_count": 40,
     "metadata": {},
     "output_type": "execute_result"
    }
   ],
   "source": [
    "pos_nnzs = np.array([Y_trn_pos.getrow(i).nnz for i in range(Y_trn_pos.shape[0])])\n",
    "sum(pos_nnzs != 0)"
   ]
  },
  {
   "cell_type": "markdown",
   "id": "20efa1b1",
   "metadata": {},
   "source": [
    "### Evaluate original dataset"
   ]
  },
  {
   "cell_type": "code",
   "execution_count": 21,
   "id": "542794ac",
   "metadata": {},
   "outputs": [
    {
     "name": "stdout",
     "output_type": "stream",
     "text": [
      "\u001b[0m\u001b[38;5;27mbert\u001b[0m/          para.title.txt                  qrels.train.addition.tsv\r\n",
      "corpus.tsv     \u001b[38;5;34mpara.txt\u001b[0m*                       qrels.train.tsv\r\n",
      "dev.query.txt  qidpidtriples.train.full.2.tsv  train.negatives.tsv\r\n",
      "\u001b[38;5;27mdoctrain\u001b[0m/      qrels.dev.tsv                   train.query.txt\r\n"
     ]
    }
   ],
   "source": [
    "%ls ../tevatron/examples/coCondenser-marco/marco/"
   ]
  },
  {
   "cell_type": "code",
   "execution_count": 26,
   "id": "8bf7ae97",
   "metadata": {},
   "outputs": [],
   "source": [
    "gt_train_tsv = '../tevatron/examples/coCondenser-marco/marco/qidpidtriples.train.full.2.tsv'\n",
    "df = pd.read_csv(gt_train_tsv, delimiter='\\t', header=None)"
   ]
  },
  {
   "cell_type": "code",
   "execution_count": 28,
   "id": "6415aa64",
   "metadata": {},
   "outputs": [
    {
     "data": {
      "text/plain": [
       "400782"
      ]
     },
     "execution_count": 28,
     "metadata": {},
     "output_type": "execute_result"
    }
   ],
   "source": [
    "df.iloc[:, 0].nunique()"
   ]
  },
  {
   "cell_type": "code",
   "execution_count": 30,
   "id": "60869b1c",
   "metadata": {},
   "outputs": [],
   "source": [
    "qrel_tsv = '../tevatron/examples/coCondenser-marco/marco/qrels.train.tsv'\n",
    "qrel_trn = pd.read_csv(qrel_tsv, delimiter='\\t', header=None)"
   ]
  },
  {
   "cell_type": "code",
   "execution_count": 33,
   "id": "60ed65ff",
   "metadata": {},
   "outputs": [
    {
     "data": {
      "text/plain": [
       "502939"
      ]
     },
     "execution_count": 33,
     "metadata": {},
     "output_type": "execute_result"
    }
   ],
   "source": [
    "qrel_trn.iloc[:, 0].nunique()"
   ]
  },
  {
   "cell_type": "code",
   "execution_count": 31,
   "id": "4d9d7100",
   "metadata": {},
   "outputs": [],
   "source": [
    "qneg_tsv = '../tevatron/examples/coCondenser-marco/marco/train.negatives.tsv'\n",
    "qneg_trn = pd.read_csv(qneg_tsv, delimiter='\\t', header=None)"
   ]
  },
  {
   "cell_type": "code",
   "execution_count": 36,
   "id": "b9117fba",
   "metadata": {},
   "outputs": [
    {
     "data": {
      "text/plain": [
       "400782"
      ]
     },
     "execution_count": 36,
     "metadata": {},
     "output_type": "execute_result"
    }
   ],
   "source": [
    "qneg_trn.iloc[:, 0].nunique()"
   ]
  },
  {
   "cell_type": "code",
   "execution_count": null,
   "id": "57cce7b4",
   "metadata": {},
   "outputs": [],
   "source": []
  }
 ],
 "metadata": {
  "kernelspec": {
   "display_name": "Python 3 (ipykernel)",
   "language": "python",
   "name": "python3"
  },
  "language_info": {
   "codemirror_mode": {
    "name": "ipython",
    "version": 3
   },
   "file_extension": ".py",
   "mimetype": "text/x-python",
   "name": "python",
   "nbconvert_exporter": "python",
   "pygments_lexer": "ipython3",
   "version": "3.9.13"
  }
 },
 "nbformat": 4,
 "nbformat_minor": 5
}
