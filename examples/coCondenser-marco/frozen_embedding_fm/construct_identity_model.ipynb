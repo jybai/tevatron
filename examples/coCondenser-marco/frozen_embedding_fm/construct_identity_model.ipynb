{
 "cells": [
  {
   "cell_type": "code",
   "execution_count": 1,
   "id": "b48a8e92",
   "metadata": {},
   "outputs": [],
   "source": [
    "import json\n",
    "import os\n",
    "import torch\n",
    "from torchfm.model.efm import EmbeddingFactorizationMachineModel"
   ]
  },
  {
   "cell_type": "code",
   "execution_count": 2,
   "id": "cdb0fa24",
   "metadata": {},
   "outputs": [],
   "source": [
    "dim = 768\n",
    "fm = EmbeddingFactorizationMachineModel(dim, dim, dim, \n",
    "                                        use_bias=False)"
   ]
  },
  {
   "cell_type": "code",
   "execution_count": 3,
   "id": "df94d2d6",
   "metadata": {},
   "outputs": [],
   "source": [
    "with torch.no_grad():\n",
    "    fm.x_dim_reduc.weight.zero_()\n",
    "    fm.x_dim_reduc.weight.fill_diagonal_(1)\n",
    "\n",
    "    fm.z_dim_reduc.weight.zero_()\n",
    "    fm.z_dim_reduc.weight.fill_diagonal_(1)"
   ]
  },
  {
   "cell_type": "code",
   "execution_count": 4,
   "id": "da991c58",
   "metadata": {},
   "outputs": [],
   "source": [
    "assert torch.equal(fm.x_dim_reduc.weight, torch.eye(dim))\n",
    "assert torch.equal(fm.z_dim_reduc.weight, torch.eye(dim))"
   ]
  },
  {
   "cell_type": "code",
   "execution_count": 5,
   "id": "eb15cabb",
   "metadata": {},
   "outputs": [],
   "source": [
    "x = torch.rand([1, 768])"
   ]
  },
  {
   "cell_type": "code",
   "execution_count": 8,
   "id": "82f78219",
   "metadata": {},
   "outputs": [
    {
     "data": {
      "text/plain": [
       "(True, True)"
      ]
     },
     "execution_count": 8,
     "metadata": {},
     "output_type": "execute_result"
    }
   ],
   "source": [
    "torch.equal(x, fm.encode_x(x)[:, :-2]), torch.equal(x, fm.encode_z(x)[:, :-2])"
   ]
  },
  {
   "cell_type": "code",
   "execution_count": 20,
   "id": "c298cab1",
   "metadata": {},
   "outputs": [
    {
     "name": "stdout",
     "output_type": "stream",
     "text": [
      "\u001b[0m\u001b[38;5;27mfm_k128\u001b[0m/  \u001b[38;5;27mfm_k2\u001b[0m/  \u001b[38;5;27mfm_k256\u001b[0m/  \u001b[38;5;27mfm_k512\u001b[0m/  \u001b[38;5;27mfm_k64\u001b[0m/  \u001b[38;5;27mtest\u001b[0m/\r\n"
     ]
    }
   ],
   "source": [
    "%ls models"
   ]
  },
  {
   "cell_type": "code",
   "execution_count": 22,
   "id": "1353fd61",
   "metadata": {},
   "outputs": [],
   "source": [
    "os.makedirs('./models/identity', exist_ok=True)"
   ]
  },
  {
   "cell_type": "code",
   "execution_count": 23,
   "id": "ebb0ebd6",
   "metadata": {},
   "outputs": [],
   "source": [
    "train_args = {'k': dim, 'use_bias': False}"
   ]
  },
  {
   "cell_type": "code",
   "execution_count": 26,
   "id": "03a62c7d",
   "metadata": {},
   "outputs": [],
   "source": [
    "with open('./models/identity/config.json', 'w') as f:\n",
    "    json.dump(train_args, f, indent=4)"
   ]
  },
  {
   "cell_type": "code",
   "execution_count": 27,
   "id": "a5147be9",
   "metadata": {},
   "outputs": [],
   "source": [
    "torch.save(fm.state_dict(), './models/identity/fm.pth')"
   ]
  },
  {
   "cell_type": "code",
   "execution_count": null,
   "id": "c7b6160e",
   "metadata": {},
   "outputs": [],
   "source": []
  }
 ],
 "metadata": {
  "kernelspec": {
   "display_name": "Python 3 (ipykernel)",
   "language": "python",
   "name": "python3"
  },
  "language_info": {
   "codemirror_mode": {
    "name": "ipython",
    "version": 3
   },
   "file_extension": ".py",
   "mimetype": "text/x-python",
   "name": "python",
   "nbconvert_exporter": "python",
   "pygments_lexer": "ipython3",
   "version": "3.9.13"
  }
 },
 "nbformat": 4,
 "nbformat_minor": 5
}
